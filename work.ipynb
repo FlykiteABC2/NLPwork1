{
 "cells": [
  {
   "cell_type": "code",
   "execution_count": 1,
   "metadata": {},
   "outputs": [],
   "source": [
    "import os\n",
    "import re\n",
    "import jieba\n",
    "import docx\n",
    "import math\n",
    "from nltk import FreqDist, word_tokenize\n",
    "from collections import Counter\n",
    "from tqdm import tqdm\n",
    "import matplotlib.pyplot as plt\n",
    "\n",
    "# 设置matplotlib支持中文显示\n",
    "plt.rcParams['font.sans-serif'] = ['SimHei']  # 用来正常显示中文标签\n",
    "plt.rcParams['axes.unicode_minus'] = False  # 用来正常显示负号"
   ]
  },
  {
   "cell_type": "code",
   "execution_count": 26,
   "metadata": {},
   "outputs": [],
   "source": [
    "def calculate_entropy_word(text):\n",
    "    char_counts = Counter(text)\n",
    "    total_chars = sum(char_counts.values())\n",
    "    entropy = 0\n",
    "    for char,count in tqdm(char_counts.items()):\n",
    "        p = count / total_chars\n",
    "        entropy -= p* math.log2(p)\n",
    "\n",
    "    return entropy\n",
    "\n",
    "\n",
    "def calculate_entropy_words(text):\n",
    "    words = jieba.lcut(text)\n",
    "\n",
    "    word_counts = Counter(words)\n",
    "    total_words = sum(word_counts.values())\n",
    "\n",
    "    entropy = 0\n",
    "    for word,count in tqdm(word_counts.items()):\n",
    "        p = count /total_words\n",
    "        entropy -= p * math.log2(p)\n",
    "\n",
    "    return entropy\n",
    "\n",
    "\n",
    "def calculate_entropy_english(text):\n",
    "    char_counts = Counter(text.lower())\n",
    "    total_chars = sum(char_counts.values())\n",
    "\n",
    "    entropy = 0\n",
    "    for char,count in tqdm(char_counts.items()):\n",
    "        p = count / total_chars\n",
    "\n",
    "        entropy -= p * math.log2(p)\n",
    "\n",
    "    return entropy\n",
    "\n",
    "def calculate_entropy_englishs(text):\n",
    "    words = text.lower().split()\n",
    "    word_counts = Counter(words)\n",
    "    total_words = sum(word_counts.values())\n",
    "\n",
    "    entropy = 0\n",
    "    for word,count in tqdm(word_counts.items()):\n",
    "        p = count / total_words\n",
    "        entropy -= p * math.log2(p)\n",
    "\n",
    "    return entropy"
   ]
  },
  {
   "cell_type": "code",
   "execution_count": 27,
   "metadata": {},
   "outputs": [
    {
     "name": "stderr",
     "output_type": "stream",
     "text": [
      "Processing folders: 100%|██████████| 13/13 [00:24<00:00,  1.87s/it]"
     ]
    },
    {
     "name": "stdout",
     "output_type": "stream",
     "text": [
      "Total corpus length: 341816370 characters\n"
     ]
    },
    {
     "name": "stderr",
     "output_type": "stream",
     "text": [
      "\n"
     ]
    }
   ],
   "source": [
    "folder_path = 'wiki_zh_2019/wiki_zh'  # 请根据实际路径调整\n",
    "corpus_parts = []\n",
    "\n",
    "# 定义正则表达式，保留中文字符和常见中文标点\n",
    "# chinese_pattern = re.compile(\n",
    "#     r'[^\\u4e00-\\u9fa5。，！？、；：“”‘’（）《》【】『』「」〈〉〖〗〘〙〚〛]'\n",
    "# )\n",
    "chinese_pattern = re.compile(r'[^\\u4e00-\\u9fa5]')\n",
    "#只保留中文字符\n",
    "# 遍历文件夹\n",
    "for childfolder in tqdm(os.listdir(folder_path), desc=\"Processing folders\"):\n",
    "    childfolder_path = os.path.join(folder_path, childfolder)\n",
    "    if os.path.isdir(childfolder_path):\n",
    "        # 遍历子文件夹中的文件\n",
    "        for filename in os.listdir(childfolder_path):\n",
    "            file_path = os.path.join(childfolder_path, filename)\n",
    "            if os.path.isfile(file_path):\n",
    "                try:\n",
    "                    # 读取文件内容\n",
    "                    with open(file_path, 'r', encoding='utf-8') as file:\n",
    "                        content = file.read()\n",
    "                        # 去掉非中文字符和标点\n",
    "                        processed_content = chinese_pattern.sub('', content)\n",
    "                        # 将处理后的内容添加到列表中\n",
    "                        corpus_parts.append(processed_content)\n",
    "                except Exception as e:\n",
    "                    print(f\"Error reading {file_path}: {e}\")\n",
    "\n",
    "# 合并所有文本为一个大字符串\n",
    "corpus = ''.join(corpus_parts)\n",
    "print(f\"Total corpus length: {len(corpus)} characters\")"
   ]
  },
  {
   "cell_type": "code",
   "execution_count": null,
   "metadata": {},
   "outputs": [
    {
     "name": "stderr",
     "output_type": "stream",
     "text": [
      "100%|██████████| 12763/12763 [00:00<00:00, 2247634.12it/s]\n"
     ]
    },
    {
     "data": {
      "text/plain": [
       "9.854372492925405"
      ]
     },
     "execution_count": 22,
     "metadata": {},
     "output_type": "execute_result"
    }
   ],
   "source": [
    "entropy=calculate_entropy_word(corpus)\n",
    "print(f\"中文字信息熵{entropy}\")"
   ]
  },
  {
   "cell_type": "code",
   "execution_count": null,
   "metadata": {},
   "outputs": [
    {
     "name": "stderr",
     "output_type": "stream",
     "text": [
      "Building prefix dict from the default dictionary ...\n",
      "Dumping model to file cache C:\\Users\\XCG2\\AppData\\Local\\Temp\\jieba.cache\n",
      "Loading model cost 0.479 seconds.\n",
      "Prefix dict has been built successfully.\n"
     ]
    }
   ],
   "source": [
    "# entropy=calculate_entropy_words(corpus)\n",
    "# print(f\"中文词语信息熵{entropy}\")"
   ]
  },
  {
   "cell_type": "code",
   "execution_count": 28,
   "metadata": {},
   "outputs": [],
   "source": [
    "def calculate_entropy_words(text, chunk_size=10000):\n",
    "    \"\"\"\n",
    "    计算中文词语信息熵（分块处理）\n",
    "    :param text: 输入文本\n",
    "    :param chunk_size: 每块的大小（字符数）\n",
    "    :return: 信息熵\n",
    "    \"\"\"\n",
    "    def chunk_text(text, size):\n",
    "        \"\"\"将文本分割为较小的块\"\"\"\n",
    "        for i in range(0, len(text), size):\n",
    "            yield text[i:i + size]\n",
    "\n",
    "    # 统计词频\n",
    "    word_counts = Counter()\n",
    "    for chunk in tqdm(chunk_text(text, chunk_size)):\n",
    "        words = jieba.lcut(chunk)  # 分词\n",
    "        word_counts.update(words)  # 更新词频\n",
    "\n",
    "    # 计算信息熵\n",
    "    total_words = sum(word_counts.values())\n",
    "    entropy = 0\n",
    "    for word, count in word_counts.items():\n",
    "        p = count / total_words\n",
    "        entropy -= p * math.log2(p)\n",
    "    return entropy"
   ]
  },
  {
   "cell_type": "code",
   "execution_count": 29,
   "metadata": {},
   "outputs": [
    {
     "name": "stderr",
     "output_type": "stream",
     "text": [
      "0it [00:00, ?it/s]Building prefix dict from the default dictionary ...\n",
      "Loading model from cache C:\\Users\\XCG2\\AppData\\Local\\Temp\\jieba.cache\n",
      "Loading model cost 0.336 seconds.\n",
      "Prefix dict has been built successfully.\n",
      "34182it [31:16, 18.22it/s]\n"
     ]
    },
    {
     "name": "stdout",
     "output_type": "stream",
     "text": [
      "中文词语信息熵13.355834532880332\n"
     ]
    }
   ],
   "source": [
    "entropy=calculate_entropy_words(corpus)\n",
    "print(f\"中文词语信息熵{entropy}\")"
   ]
  },
  {
   "cell_type": "code",
   "execution_count": 9,
   "metadata": {},
   "outputs": [
    {
     "name": "stderr",
     "output_type": "stream",
     "text": [
      "[nltk_data] Downloading package gutenberg to\n",
      "[nltk_data]     C:\\Users\\XCG2\\AppData\\Roaming\\nltk_data...\n",
      "[nltk_data]   Package gutenberg is already up-to-date!\n"
     ]
    }
   ],
   "source": [
    "import nltk\n",
    "import math\n",
    "import re\n",
    "from nltk.corpus import gutenberg\n",
    "from nltk.probability import FreqDist\n",
    "import matplotlib.pyplot as plt\n",
    "\n",
    "# 下载古腾堡语料库\n",
    "nltk.download('gutenberg')\n",
    "r1 = r'[^a-zA-Z\\s]'\n",
    "text = gutenberg.raw()\n",
    "#去掉所有的换行和多余的空格\n",
    "text = re.sub(r1, ' ', text) \n",
    "text = text.lower()\n",
    "text = text.replace('\\n', ' ')\n",
    "text = \" \".join(text.split())"
   ]
  },
  {
   "cell_type": "code",
   "execution_count": 13,
   "metadata": {},
   "outputs": [],
   "source": [
    "words = text.split()\n",
    "letters = [char for char in text if char.isalpha()]"
   ]
  },
  {
   "cell_type": "code",
   "execution_count": 14,
   "metadata": {},
   "outputs": [],
   "source": [
    "freq_words_dict= FreqDist(words)\n",
    "freq_letters_dict= FreqDist(letters)"
   ]
  },
  {
   "cell_type": "code",
   "execution_count": 15,
   "metadata": {},
   "outputs": [
    {
     "data": {
      "text/plain": [
       "FreqDist({'e': 1119617, 't': 827161, 'a': 731203, 'o': 678136, 'h': 650743, 'n': 615091, 'i': 577691, 's': 556863, 'r': 502402, 'd': 400494, ...})"
      ]
     },
     "execution_count": 15,
     "metadata": {},
     "output_type": "execute_result"
    }
   ],
   "source": [
    "freq_letters_dict"
   ]
  },
  {
   "cell_type": "code",
   "execution_count": null,
   "metadata": {},
   "outputs": [],
   "source": []
  },
  {
   "cell_type": "code",
   "execution_count": 12,
   "metadata": {},
   "outputs": [],
   "source": [
    "def calculate_average_entropy(frequency_dict):\n",
    "    '''\n",
    "    计算平均信息熵\n",
    "    '''\n",
    "    total_count = sum(frequency_dict.values())\n",
    "    entropy = 0.0\n",
    "    for count in frequency_dict.values():\n",
    "        probability = count / total_count\n",
    "        entropy -= probability * math.log2(probability)\n",
    "    return entropy"
   ]
  },
  {
   "cell_type": "code",
   "execution_count": 16,
   "metadata": {},
   "outputs": [
    {
     "name": "stdout",
     "output_type": "stream",
     "text": [
      "letter的平均信息熵: 4.158618822194603\n",
      "word的平均信息熵: 9.728047292817916\n"
     ]
    }
   ],
   "source": [
    "letter_entropy = calculate_average_entropy(freq_letters_dict)\n",
    "print(f\"letter的平均信息熵: {letter_entropy}\")\n",
    "\n",
    "word_entropy = calculate_average_entropy(freq_words_dict)\n",
    "print(f\"word的平均信息熵: {word_entropy}\")\n"
   ]
  },
  {
   "cell_type": "code",
   "execution_count": 25,
   "metadata": {},
   "outputs": [
    {
     "data": {
      "image/png": "[encoded data removed]",
      "text/plain": [
       "<Figure size 1200x600 with 1 Axes>"
      ]
     },
     "metadata": {},
     "output_type": "display_data"
    }
   ],
   "source": [
    "letter_most = dict(freq_letters_dict.most_common())\n",
    "word_most = dict(freq_words_dict.most_common())\n",
    "\n",
    "plt.figure(figsize=(12, 6))\n",
    "plt.bar(list(letter_most.keys())[:10], list(letter_most.values())[:10], color =\"skyblue\")  # 取前50个字\n",
    "#plt.grid()\n",
    "plt.title(\"Top 10 letters\")\n",
    "plt.xlabel(\"letter\")\n",
    "plt.ylabel(\"Frequency\")\n",
    "plt.xticks(rotation=90)  # 旋转X轴标签，避免重叠\n",
    "plt.tight_layout()  # 自动调整布局\n",
    "plt.show()"
   ]
  },
  {
   "cell_type": "code",
   "execution_count": 24,
   "metadata": {},
   "outputs": [
    {
     "data": {
      "image/png": "[encoded data removed]",
      "text/plain": [
       "<Figure size 1200x600 with 1 Axes>"
      ]
     },
     "metadata": {},
     "output_type": "display_data"
    }
   ],
   "source": [
    "plt.figure(figsize=(12, 6))\n",
    "plt.bar(list(word_most.keys())[:10], list(word_most.values())[:10],color=\"skyblue\")  # 取前50个词\n",
    "plt.title(\"Top 10 Words\")\n",
    "plt.xlabel(\"Word\")\n",
    "plt.ylabel(\"Frequency\")\n",
    "plt.xticks(rotation=90)  # 旋转X轴标签，避免重叠\n",
    "plt.tight_layout()  # 自动调整布局\n",
    "plt.show()"
   ]
  },
  {
   "cell_type": "code",
   "execution_count": 7,
   "metadata": {},
   "outputs": [
    {
     "name": "stderr",
     "output_type": "stream",
     "text": [
      "Processing folders: 100%|██████████| 13/13 [00:08<00:00,  1.55it/s]\n"
     ]
    },
    {
     "ename": "MemoryError",
     "evalue": "",
     "output_type": "error",
     "traceback": [
      "\u001b[1;31m---------------------------------------------------------------------------\u001b[0m",
      "\u001b[1;31mMemoryError\u001b[0m                               Traceback (most recent call last)",
      "Cell \u001b[1;32mIn[7], line 18\u001b[0m\n\u001b[0;32m     15\u001b[0m                     \u001b[38;5;28mprint\u001b[39m(\u001b[38;5;124mf\u001b[39m\u001b[38;5;124m\"\u001b[39m\u001b[38;5;124mError reading \u001b[39m\u001b[38;5;132;01m{\u001b[39;00mfile_path\u001b[38;5;132;01m}\u001b[39;00m\u001b[38;5;124m: \u001b[39m\u001b[38;5;132;01m{\u001b[39;00me\u001b[38;5;132;01m}\u001b[39;00m\u001b[38;5;124m\"\u001b[39m)\n\u001b[0;32m     17\u001b[0m \u001b[38;5;66;03m# 合并所有文本为一个大字符串\u001b[39;00m\n\u001b[1;32m---> 18\u001b[0m corpus \u001b[38;5;241m=\u001b[39m \u001b[38;5;124;43m'\u001b[39;49m\u001b[38;5;124;43m'\u001b[39;49m\u001b[38;5;241;43m.\u001b[39;49m\u001b[43mjoin\u001b[49m\u001b[43m(\u001b[49m\u001b[43mcorpus_parts\u001b[49m\u001b[43m)\u001b[49m\n\u001b[0;32m     19\u001b[0m \u001b[38;5;28mprint\u001b[39m(\u001b[38;5;124mf\u001b[39m\u001b[38;5;124m\"\u001b[39m\u001b[38;5;124mTotal corpus length: \u001b[39m\u001b[38;5;132;01m{\u001b[39;00m\u001b[38;5;28mlen\u001b[39m(corpus)\u001b[38;5;132;01m}\u001b[39;00m\u001b[38;5;124m characters\u001b[39m\u001b[38;5;124m\"\u001b[39m)\n",
      "\u001b[1;31mMemoryError\u001b[0m: "
     ]
    }
   ],
   "source": []
  },
  {
   "cell_type": "code",
   "execution_count": null,
   "metadata": {},
   "outputs": [],
   "source": []
  },
  {
   "cell_type": "code",
   "execution_count": null,
   "metadata": {},
   "outputs": [],
   "source": []
  },
  {
   "cell_type": "code",
   "execution_count": null,
   "metadata": {},
   "outputs": [],
   "source": []
  },
  {
   "cell_type": "code",
   "execution_count": null,
   "metadata": {},
   "outputs": [],
   "source": []
  },
  {
   "cell_type": "code",
   "execution_count": null,
   "metadata": {},
   "outputs": [],
   "source": []
  }
 ],
 "metadata": {
  "kernelspec": {
   "display_name": "py39",
   "language": "python",
   "name": "python3"
  },
  "language_info": {
   "codemirror_mode": {
    "name": "ipython",
    "version": 3
   },
   "file_extension": ".py",
   "mimetype": "text/x-python",
   "name": "python",
   "nbconvert_exporter": "python",
   "pygments_lexer": "ipython3",
   "version": "3.9.20"
  }
 },
 "nbformat": 4,
 "nbformat_minor": 2
}
